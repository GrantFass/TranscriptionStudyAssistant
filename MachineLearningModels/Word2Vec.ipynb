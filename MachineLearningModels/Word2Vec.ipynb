{
 "cells": [
  {
   "cell_type": "markdown",
   "id": "3f57e949",
   "metadata": {},
   "source": [
    "## Option 1 - Use MOOC Vectors\n",
    "Could just read in the word embedding csv from the MOOC dataset instead of spending time / computation to make our own based off of a smaller corpus (The MOOC set is the one that claims to have made their vectors with over 12,000 coursera transcripts - will probably correspond to the type of \"lecture\" context we want)"
   ]
  },
  {
   "cell_type": "code",
   "execution_count": 2,
   "id": "b0d6d5fe",
   "metadata": {
    "scrolled": true
   },
   "outputs": [],
   "source": [
    "#Make sure to have libraries installed if running yourself\n",
    "import numpy as np\n",
    "import pandas as pd\n",
    "from numpy.linalg import norm\n",
    "from numpy import dot\n",
    "from sklearn.decomposition import PCA\n",
    "from matplotlib import pyplot as plt"
   ]
  },
  {
   "cell_type": "code",
   "execution_count": 2,
   "id": "f18a26bf",
   "metadata": {},
   "outputs": [],
   "source": [
    "#MOOC dataset has options of vectors with 50, 100, 200, or 300 \"features\"\n",
    "#May need to change based on speed / accuracy\n",
    "#For reference, spaCy generates vectors with 300 features by default (will look at later)\n",
    "embed_length = 300\n",
    "df = pd.read_csv('..\\\\Datasets\\\\MOOC\\\\Word Embeddings\\\\MOOC_'+ str(embed_length) + 'd.csv')\n",
    "df.columns = ['word'] + list(range(0,embed_length)) #Gives word column actual name\n",
    "df = df.set_index(['word']) #Will make lookup faster\n",
    "df = df[df.index.notnull()] #For some reason there are 2 words which get read as NaN, just ignoring for now\n",
    "tokens = df.index.tolist() #The indicies of our dataframe are our tokens/words"
   ]
  },
  {
   "cell_type": "code",
   "execution_count": 3,
   "id": "33f32be1",
   "metadata": {},
   "outputs": [
    {
     "data": {
      "text/html": [
       "<div>\n",
       "<style scoped>\n",
       "    .dataframe tbody tr th:only-of-type {\n",
       "        vertical-align: middle;\n",
       "    }\n",
       "\n",
       "    .dataframe tbody tr th {\n",
       "        vertical-align: top;\n",
       "    }\n",
       "\n",
       "    .dataframe thead th {\n",
       "        text-align: right;\n",
       "    }\n",
       "</style>\n",
       "<table border=\"1\" class=\"dataframe\">\n",
       "  <thead>\n",
       "    <tr style=\"text-align: right;\">\n",
       "      <th></th>\n",
       "      <th>0</th>\n",
       "      <th>1</th>\n",
       "      <th>2</th>\n",
       "      <th>3</th>\n",
       "      <th>4</th>\n",
       "      <th>5</th>\n",
       "      <th>6</th>\n",
       "      <th>7</th>\n",
       "      <th>8</th>\n",
       "      <th>9</th>\n",
       "      <th>...</th>\n",
       "      <th>290</th>\n",
       "      <th>291</th>\n",
       "      <th>292</th>\n",
       "      <th>293</th>\n",
       "      <th>294</th>\n",
       "      <th>295</th>\n",
       "      <th>296</th>\n",
       "      <th>297</th>\n",
       "      <th>298</th>\n",
       "      <th>299</th>\n",
       "    </tr>\n",
       "    <tr>\n",
       "      <th>word</th>\n",
       "      <th></th>\n",
       "      <th></th>\n",
       "      <th></th>\n",
       "      <th></th>\n",
       "      <th></th>\n",
       "      <th></th>\n",
       "      <th></th>\n",
       "      <th></th>\n",
       "      <th></th>\n",
       "      <th></th>\n",
       "      <th></th>\n",
       "      <th></th>\n",
       "      <th></th>\n",
       "      <th></th>\n",
       "      <th></th>\n",
       "      <th></th>\n",
       "      <th></th>\n",
       "      <th></th>\n",
       "      <th></th>\n",
       "      <th></th>\n",
       "      <th></th>\n",
       "    </tr>\n",
       "  </thead>\n",
       "  <tbody>\n",
       "    <tr>\n",
       "      <th>going</th>\n",
       "      <td>0.282224</td>\n",
       "      <td>0.216655</td>\n",
       "      <td>-0.836659</td>\n",
       "      <td>-0.063338</td>\n",
       "      <td>-0.208164</td>\n",
       "      <td>0.144238</td>\n",
       "      <td>1.155843</td>\n",
       "      <td>-0.331597</td>\n",
       "      <td>0.823568</td>\n",
       "      <td>0.402025</td>\n",
       "      <td>...</td>\n",
       "      <td>-0.030745</td>\n",
       "      <td>0.585437</td>\n",
       "      <td>0.474711</td>\n",
       "      <td>-0.689789</td>\n",
       "      <td>0.030715</td>\n",
       "      <td>1.123113</td>\n",
       "      <td>0.119392</td>\n",
       "      <td>-0.719813</td>\n",
       "      <td>-0.882543</td>\n",
       "      <td>0.351690</td>\n",
       "    </tr>\n",
       "    <tr>\n",
       "      <th>just</th>\n",
       "      <td>-0.112434</td>\n",
       "      <td>0.631439</td>\n",
       "      <td>-0.081427</td>\n",
       "      <td>0.288760</td>\n",
       "      <td>0.677108</td>\n",
       "      <td>-0.203446</td>\n",
       "      <td>0.820269</td>\n",
       "      <td>-0.031801</td>\n",
       "      <td>-0.704224</td>\n",
       "      <td>0.596509</td>\n",
       "      <td>...</td>\n",
       "      <td>0.021465</td>\n",
       "      <td>-0.480330</td>\n",
       "      <td>0.329963</td>\n",
       "      <td>-0.402903</td>\n",
       "      <td>0.168842</td>\n",
       "      <td>0.380508</td>\n",
       "      <td>-0.987448</td>\n",
       "      <td>-1.291400</td>\n",
       "      <td>-0.085132</td>\n",
       "      <td>-0.222390</td>\n",
       "    </tr>\n",
       "    <tr>\n",
       "      <th>like</th>\n",
       "      <td>0.631965</td>\n",
       "      <td>-0.453183</td>\n",
       "      <td>-0.256713</td>\n",
       "      <td>0.227004</td>\n",
       "      <td>-0.762930</td>\n",
       "      <td>-0.634983</td>\n",
       "      <td>0.233275</td>\n",
       "      <td>1.635337</td>\n",
       "      <td>-0.974890</td>\n",
       "      <td>0.609868</td>\n",
       "      <td>...</td>\n",
       "      <td>-0.105838</td>\n",
       "      <td>0.893409</td>\n",
       "      <td>0.058053</td>\n",
       "      <td>0.674091</td>\n",
       "      <td>0.925095</td>\n",
       "      <td>0.914846</td>\n",
       "      <td>0.048320</td>\n",
       "      <td>-0.386226</td>\n",
       "      <td>1.108918</td>\n",
       "      <td>0.008589</td>\n",
       "    </tr>\n",
       "    <tr>\n",
       "      <th>time</th>\n",
       "      <td>-1.363892</td>\n",
       "      <td>-0.254021</td>\n",
       "      <td>-0.689795</td>\n",
       "      <td>-0.419093</td>\n",
       "      <td>0.412053</td>\n",
       "      <td>-0.395511</td>\n",
       "      <td>0.212262</td>\n",
       "      <td>-0.298002</td>\n",
       "      <td>-1.061591</td>\n",
       "      <td>-0.993085</td>\n",
       "      <td>...</td>\n",
       "      <td>-0.227557</td>\n",
       "      <td>0.692057</td>\n",
       "      <td>0.266910</td>\n",
       "      <td>-0.145627</td>\n",
       "      <td>0.734603</td>\n",
       "      <td>-0.001361</td>\n",
       "      <td>-0.661998</td>\n",
       "      <td>-1.354438</td>\n",
       "      <td>0.563217</td>\n",
       "      <td>-0.117375</td>\n",
       "    </tr>\n",
       "    <tr>\n",
       "      <th>thing</th>\n",
       "      <td>-0.381017</td>\n",
       "      <td>0.863210</td>\n",
       "      <td>0.528545</td>\n",
       "      <td>0.508915</td>\n",
       "      <td>0.237749</td>\n",
       "      <td>0.277165</td>\n",
       "      <td>1.016616</td>\n",
       "      <td>-0.639115</td>\n",
       "      <td>-0.567647</td>\n",
       "      <td>0.924159</td>\n",
       "      <td>...</td>\n",
       "      <td>-0.145871</td>\n",
       "      <td>0.624864</td>\n",
       "      <td>0.114556</td>\n",
       "      <td>0.452468</td>\n",
       "      <td>0.706427</td>\n",
       "      <td>0.626805</td>\n",
       "      <td>-0.586004</td>\n",
       "      <td>-0.991389</td>\n",
       "      <td>0.265829</td>\n",
       "      <td>-0.329494</td>\n",
       "    </tr>\n",
       "  </tbody>\n",
       "</table>\n",
       "<p>5 rows × 300 columns</p>\n",
       "</div>"
      ],
      "text/plain": [
       "            0         1         2         3         4         5         6    \\\n",
       "word                                                                          \n",
       "going  0.282224  0.216655 -0.836659 -0.063338 -0.208164  0.144238  1.155843   \n",
       "just  -0.112434  0.631439 -0.081427  0.288760  0.677108 -0.203446  0.820269   \n",
       "like   0.631965 -0.453183 -0.256713  0.227004 -0.762930 -0.634983  0.233275   \n",
       "time  -1.363892 -0.254021 -0.689795 -0.419093  0.412053 -0.395511  0.212262   \n",
       "thing -0.381017  0.863210  0.528545  0.508915  0.237749  0.277165  1.016616   \n",
       "\n",
       "            7         8         9    ...       290       291       292  \\\n",
       "word                                 ...                                 \n",
       "going -0.331597  0.823568  0.402025  ... -0.030745  0.585437  0.474711   \n",
       "just  -0.031801 -0.704224  0.596509  ...  0.021465 -0.480330  0.329963   \n",
       "like   1.635337 -0.974890  0.609868  ... -0.105838  0.893409  0.058053   \n",
       "time  -0.298002 -1.061591 -0.993085  ... -0.227557  0.692057  0.266910   \n",
       "thing -0.639115 -0.567647  0.924159  ... -0.145871  0.624864  0.114556   \n",
       "\n",
       "            293       294       295       296       297       298       299  \n",
       "word                                                                         \n",
       "going -0.689789  0.030715  1.123113  0.119392 -0.719813 -0.882543  0.351690  \n",
       "just  -0.402903  0.168842  0.380508 -0.987448 -1.291400 -0.085132 -0.222390  \n",
       "like   0.674091  0.925095  0.914846  0.048320 -0.386226  1.108918  0.008589  \n",
       "time  -0.145627  0.734603 -0.001361 -0.661998 -1.354438  0.563217 -0.117375  \n",
       "thing  0.452468  0.706427  0.626805 -0.586004 -0.991389  0.265829 -0.329494  \n",
       "\n",
       "[5 rows x 300 columns]"
      ]
     },
     "execution_count": 3,
     "metadata": {},
     "output_type": "execute_result"
    }
   ],
   "source": [
    "df.head()"
   ]
  },
  {
   "cell_type": "code",
   "execution_count": 95,
   "id": "d7ae0778",
   "metadata": {},
   "outputs": [],
   "source": [
    "#Helper function to grab the vector from the dataframe\n",
    "#Converts to numpy array so we can do things like add 2 vectors together\n",
    "def vec(word):\n",
    "    return df.loc[word].to_numpy()\n",
    "\n",
    "#Cosine similarity is used to determine how 'similar' 2 words are in the context of the embeddings\n",
    "def cosine_similarity(vector1, vector2):\n",
    "    if norm(vector1) > 0 and norm(vector2) > 0:\n",
    "        return dot(vector1, vector2) / (norm(vector1) * norm(vector2))\n",
    "    else:\n",
    "        return 0.0\n",
    "    \n",
    "#Function that returns the n \"closest\" words in the embedding context\n",
    "#This is from some sort of spaCy/word2vec tutorial but I can't seem to find it again - will link it if I do\n",
    "def n_closest(token_list, comp_vec, n=10):\n",
    "    return sorted(token_list,\n",
    "                 key=lambda v: cosine_similarity(comp_vec, vec(v)),\n",
    "                 reverse=True)[:n]"
   ]
  },
  {
   "cell_type": "code",
   "execution_count": 5,
   "id": "37808362",
   "metadata": {},
   "outputs": [
    {
     "data": {
      "text/plain": [
       "['king',\n",
       " 'pharaoh',\n",
       " 'babylon',\n",
       " 'prophet',\n",
       " 'priest',\n",
       " 'zedekiah',\n",
       " 'temple',\n",
       " 'gedaliah',\n",
       " 'queen',\n",
       " 'throne']"
      ]
     },
     "execution_count": 5,
     "metadata": {},
     "output_type": "execute_result"
    }
   ],
   "source": [
    "n_closest(tokens, vec('king'))"
   ]
  },
  {
   "cell_type": "code",
   "execution_count": 6,
   "id": "c84a01cf",
   "metadata": {
    "scrolled": true
   },
   "outputs": [
    {
     "data": {
      "text/plain": [
       "['king',\n",
       " 'pharaoh',\n",
       " 'zedekiah',\n",
       " 'gedaliah',\n",
       " 'prophet',\n",
       " 'queen',\n",
       " 'babylon',\n",
       " 'temple',\n",
       " 'priest',\n",
       " 'jeremiah']"
      ]
     },
     "execution_count": 6,
     "metadata": {},
     "output_type": "execute_result"
    }
   ],
   "source": [
    "#Analogy example always used with word vectors. Queen shows up, but at the 6th closest\n",
    "#Must have been a lot of history lectures talking about pharaohs, babylon, etc\n",
    "n_closest(tokens, vec('king') - vec('male') + vec('female'))"
   ]
  },
  {
   "cell_type": "code",
   "execution_count": 7,
   "id": "e4179670",
   "metadata": {},
   "outputs": [
    {
     "data": {
      "text/plain": [
       "['fruit',\n",
       " 'vegetable',\n",
       " 'maize',\n",
       " 'sugar',\n",
       " 'beef',\n",
       " 'spinach',\n",
       " 'veggie',\n",
       " 'egg',\n",
       " 'soybean',\n",
       " 'mineral']"
      ]
     },
     "execution_count": 7,
     "metadata": {},
     "output_type": "execute_result"
    }
   ],
   "source": [
    "n_closest(tokens, vec('fruit'))"
   ]
  },
  {
   "cell_type": "code",
   "execution_count": 8,
   "id": "0b969880",
   "metadata": {
    "scrolled": true
   },
   "outputs": [
    {
     "data": {
      "text/plain": [
       "['apple',\n",
       " 'ipod',\n",
       " 'iphone',\n",
       " 'ipad',\n",
       " 'walmart',\n",
       " 'itunes',\n",
       " 'amazon',\n",
       " 'ereader',\n",
       " 'ebay',\n",
       " 'samsung']"
      ]
     },
     "execution_count": 8,
     "metadata": {},
     "output_type": "execute_result"
    }
   ],
   "source": [
    "#Guess I should have seen this coming...\n",
    "n_closest(tokens, vec('apple'))"
   ]
  },
  {
   "cell_type": "markdown",
   "id": "3fe1cdcb",
   "metadata": {},
   "source": [
    "### Visualization"
   ]
  },
  {
   "cell_type": "code",
   "execution_count": 53,
   "id": "439016a7",
   "metadata": {},
   "outputs": [
    {
     "data": {
      "image/png": "[encoded data removed]",
      "text/plain": [
       "<Figure size 640x480 with 1 Axes>"
      ]
     },
     "metadata": {},
     "output_type": "display_data"
    }
   ],
   "source": [
    "words = ['king','queen','man','woman','president','kingdom','apple','orange','banana','amazon']\n",
    "X = [vec(w) for w in words]\n",
    "pca = PCA(n_components=2)\n",
    "res = pca.fit_transform(X)\n",
    "\n",
    "plt.scatter(res[:,0],res[:,1])\n",
    "for i, word in enumerate(words):\n",
    "    plt.annotate(word, xy=(res[i, 0], res[i, 1]))\n",
    "plt.show()"
   ]
  },
  {
   "cell_type": "markdown",
   "id": "9453a32f",
   "metadata": {},
   "source": [
    "## Option 2 - Use Gensim pretrained\n",
    "Gensim (specifically the downloader) has some [pretrained models](https://radimrehurek.com/gensim/models/word2vec.html#pretrained-models) loaded as KeyedVector objects that could prove useful.  \n",
    "The library also has some convenient functions already implemented"
   ]
  },
  {
   "cell_type": "code",
   "execution_count": 9,
   "id": "70db8f12",
   "metadata": {},
   "outputs": [],
   "source": [
    "import gensim\n",
    "import gensim.downloader"
   ]
  },
  {
   "cell_type": "markdown",
   "id": "8042dbdd",
   "metadata": {},
   "source": [
    "Uncomment one of the following models to load  \n",
    "- Google News model is 1660 MB\n",
    "- Wiki model is 950 MB\n",
    "  \n",
    "Note: these are just the vectors, not the model with its weights and everything. This means we can't use the predict_output_word() method unless we train a model ourselves. (However it is not recommended to use gensim models for this, and even the documentation calls this 'a crude way of using a trained model as a predictor')"
   ]
  },
  {
   "cell_type": "code",
   "execution_count": 10,
   "id": "291d3ad3",
   "metadata": {},
   "outputs": [
    {
     "data": {
      "text/plain": [
       "gensim.models.keyedvectors.KeyedVectors"
      ]
     },
     "execution_count": 10,
     "metadata": {},
     "output_type": "execute_result"
    }
   ],
   "source": [
    "#Pre-trained model generated from a Google News dataset (3 million word/phrase vectors) - also has 300-dimensional vectors\n",
    "#model = gensim.downloader.load('word2vec-google-news-300')\n",
    "\n",
    "#Pre-trained model generated from 2017 Wikipedia (1 million word vectors)\n",
    "model = gensim.downloader.load('fasttext-wiki-news-subwords-300')\n",
    "\n",
    "type(model)"
   ]
  },
  {
   "cell_type": "code",
   "execution_count": 11,
   "id": "d101eed6",
   "metadata": {
    "scrolled": false
   },
   "outputs": [
    {
     "data": {
      "text/plain": [
       "0.73026234"
      ]
     },
     "execution_count": 11,
     "metadata": {},
     "output_type": "execute_result"
    }
   ],
   "source": [
    "#Computes cosine similarity of two word vectors\n",
    "model.similarity('legislator','politician')"
   ]
  },
  {
   "cell_type": "code",
   "execution_count": 19,
   "id": "06cfc130",
   "metadata": {},
   "outputs": [
    {
     "data": {
      "text/plain": [
       "'bread'"
      ]
     },
     "execution_count": 19,
     "metadata": {},
     "output_type": "execute_result"
    }
   ],
   "source": [
    "#Finds the word that matches the others the least\n",
    "model.doesnt_match('computer technology machine power bread electricity network data'.split())"
   ]
  },
  {
   "cell_type": "code",
   "execution_count": 13,
   "id": "7d95a852",
   "metadata": {
    "scrolled": true
   },
   "outputs": [
    {
     "data": {
      "text/plain": [
       "[('facebook.', 0.8114862442016602),\n",
       " ('facebooks', 0.7959319949150085),\n",
       " ('Facebook', 0.7885890007019043),\n",
       " ('twitter', 0.7708379030227661),\n",
       " ('facebook.com', 0.7622057199478149),\n",
       " ('facebooking', 0.737972617149353),\n",
       " ('non-Facebook', 0.7352786064147949),\n",
       " ('instagram', 0.7332959771156311),\n",
       " ('Facebook.', 0.7232986688613892),\n",
       " ('myspace', 0.7073581218719482)]"
      ]
     },
     "execution_count": 13,
     "metadata": {},
     "output_type": "execute_result"
    }
   ],
   "source": [
    "#10 most similar words\n",
    "model.most_similar('facebook')"
   ]
  },
  {
   "cell_type": "code",
   "execution_count": 14,
   "id": "1c0611c4",
   "metadata": {},
   "outputs": [
    {
     "data": {
      "text/plain": [
       "[('king', 0.8185327053070068),\n",
       " ('queen', 0.7570335865020752),\n",
       " ('queen-mother', 0.6896809339523315),\n",
       " ('king-', 0.6787333488464355),\n",
       " ('queen-consort', 0.6555202603340149),\n",
       " ('monarch', 0.6455855965614319),\n",
       " ('kings', 0.6409086585044861),\n",
       " ('child-king', 0.6346831321716309),\n",
       " ('king-elect', 0.634436309337616),\n",
       " ('boy-king', 0.630662739276886)]"
      ]
     },
     "execution_count": 14,
     "metadata": {},
     "output_type": "execute_result"
    }
   ],
   "source": [
    "#More accurate in this example than our MOOC model\n",
    "model.most_similar(model.get_vector('king') - model.get_vector('man') + model.get_vector('woman'))"
   ]
  },
  {
   "cell_type": "code",
   "execution_count": 17,
   "id": "35bf4737",
   "metadata": {},
   "outputs": [
    {
     "ename": "AttributeError",
     "evalue": "'KeyedVectors' object has no attribute 'predict_output_word'",
     "output_type": "error",
     "traceback": [
      "\u001b[1;31m---------------------------------------------------------------------------\u001b[0m",
      "\u001b[1;31mAttributeError\u001b[0m                            Traceback (most recent call last)",
      "Cell \u001b[1;32mIn [17], line 1\u001b[0m\n\u001b[1;32m----> 1\u001b[0m \u001b[43mmodel\u001b[49m\u001b[38;5;241;43m.\u001b[39;49m\u001b[43mpredict_output_word\u001b[49m(\u001b[38;5;124m'\u001b[39m\u001b[38;5;124mthe quick brown fox\u001b[39m\u001b[38;5;124m'\u001b[39m\u001b[38;5;241m.\u001b[39msplit())\n",
      "\u001b[1;31mAttributeError\u001b[0m: 'KeyedVectors' object has no attribute 'predict_output_word'"
     ]
    }
   ],
   "source": [
    "#This is what we lose out on without training, but that is okay\n",
    "#It is not recommended to use this an the main benefit is the vectors themselves\n",
    "model.predict_output_word('the quick brown fox jumped over the lazy dog'.split())"
   ]
  },
  {
   "cell_type": "markdown",
   "id": "e3be12f6",
   "metadata": {},
   "source": [
    "### Visualization"
   ]
  },
  {
   "cell_type": "code",
   "execution_count": 54,
   "id": "e573121b",
   "metadata": {},
   "outputs": [
    {
     "data": {
      "image/png": "[encoded data removed]",
      "text/plain": [
       "<Figure size 640x480 with 1 Axes>"
      ]
     },
     "metadata": {},
     "output_type": "display_data"
    }
   ],
   "source": [
    "words = ['king','queen','man','woman','president','kingdom','apple','orange','banana','amazon']\n",
    "X = [model.get_vector(w) for w in words]\n",
    "pca = PCA(n_components=2)\n",
    "res = pca.fit_transform(X)\n",
    "\n",
    "plt.scatter(res[:,0],res[:,1])\n",
    "for i, word in enumerate(words):\n",
    "    plt.annotate(word, xy=(res[i, 0], res[i, 1]))\n",
    "plt.show()"
   ]
  },
  {
   "cell_type": "markdown",
   "id": "98ba60d2",
   "metadata": {},
   "source": [
    "## Option 3 - Use spaCy pretrained\n",
    "spaCy also has its own pretrained word vector models"
   ]
  },
  {
   "cell_type": "code",
   "execution_count": 83,
   "id": "800d16b0",
   "metadata": {
    "collapsed": true
   },
   "outputs": [
    {
     "name": "stdout",
     "output_type": "stream",
     "text": [
      "Collecting en-core-web-md==3.4.0\n",
      "  Downloading https://github.com/explosion/spacy-models/releases/download/en_core_web_md-3.4.0/en_core_web_md-3.4.0-py3-none-any.whl (42.8 MB)\n",
      "     --------------------------------------- 42.8/42.8 MB 17.7 MB/s eta 0:00:00\n",
      "Requirement already satisfied: spacy<3.5.0,>=3.4.0 in c:\\users\\kajan\\appdata\\local\\programs\\python\\python310\\lib\\site-packages (from en-core-web-md==3.4.0) (3.4.1)\n",
      "Requirement already satisfied: spacy-legacy<3.1.0,>=3.0.9 in c:\\users\\kajan\\appdata\\local\\programs\\python\\python310\\lib\\site-packages (from spacy<3.5.0,>=3.4.0->en-core-web-md==3.4.0) (3.0.10)\n",
      "Requirement already satisfied: murmurhash<1.1.0,>=0.28.0 in c:\\users\\kajan\\appdata\\local\\programs\\python\\python310\\lib\\site-packages (from spacy<3.5.0,>=3.4.0->en-core-web-md==3.4.0) (1.0.9)\n",
      "Requirement already satisfied: jinja2 in c:\\users\\kajan\\appdata\\local\\programs\\python\\python310\\lib\\site-packages (from spacy<3.5.0,>=3.4.0->en-core-web-md==3.4.0) (3.1.2)\n",
      "Requirement already satisfied: packaging>=20.0 in c:\\users\\kajan\\appdata\\local\\programs\\python\\python310\\lib\\site-packages (from spacy<3.5.0,>=3.4.0->en-core-web-md==3.4.0) (21.3)\n",
      "Requirement already satisfied: pydantic!=1.8,!=1.8.1,<1.10.0,>=1.7.4 in c:\\users\\kajan\\appdata\\local\\programs\\python\\python310\\lib\\site-packages (from spacy<3.5.0,>=3.4.0->en-core-web-md==3.4.0) (1.9.2)\n",
      "Requirement already satisfied: wasabi<1.1.0,>=0.9.1 in c:\\users\\kajan\\appdata\\local\\programs\\python\\python310\\lib\\site-packages (from spacy<3.5.0,>=3.4.0->en-core-web-md==3.4.0) (0.10.1)\n",
      "Requirement already satisfied: catalogue<2.1.0,>=2.0.6 in c:\\users\\kajan\\appdata\\local\\programs\\python\\python310\\lib\\site-packages (from spacy<3.5.0,>=3.4.0->en-core-web-md==3.4.0) (2.0.8)\n",
      "Requirement already satisfied: tqdm<5.0.0,>=4.38.0 in c:\\users\\kajan\\appdata\\local\\programs\\python\\python310\\lib\\site-packages (from spacy<3.5.0,>=3.4.0->en-core-web-md==3.4.0) (4.64.1)\n",
      "Requirement already satisfied: thinc<8.2.0,>=8.1.0 in c:\\users\\kajan\\appdata\\local\\programs\\python\\python310\\lib\\site-packages (from spacy<3.5.0,>=3.4.0->en-core-web-md==3.4.0) (8.1.4)\n",
      "Requirement already satisfied: pathy>=0.3.5 in c:\\users\\kajan\\appdata\\local\\programs\\python\\python310\\lib\\site-packages (from spacy<3.5.0,>=3.4.0->en-core-web-md==3.4.0) (0.6.2)\n",
      "Requirement already satisfied: setuptools in c:\\users\\kajan\\appdata\\local\\programs\\python\\python310\\lib\\site-packages (from spacy<3.5.0,>=3.4.0->en-core-web-md==3.4.0) (63.2.0)\n",
      "Requirement already satisfied: langcodes<4.0.0,>=3.2.0 in c:\\users\\kajan\\appdata\\local\\programs\\python\\python310\\lib\\site-packages (from spacy<3.5.0,>=3.4.0->en-core-web-md==3.4.0) (3.3.0)\n",
      "Requirement already satisfied: typer<0.5.0,>=0.3.0 in c:\\users\\kajan\\appdata\\local\\programs\\python\\python310\\lib\\site-packages (from spacy<3.5.0,>=3.4.0->en-core-web-md==3.4.0) (0.4.2)\n",
      "Requirement already satisfied: spacy-loggers<2.0.0,>=1.0.0 in c:\\users\\kajan\\appdata\\local\\programs\\python\\python310\\lib\\site-packages (from spacy<3.5.0,>=3.4.0->en-core-web-md==3.4.0) (1.0.3)\n",
      "Requirement already satisfied: numpy>=1.15.0 in c:\\users\\kajan\\appdata\\local\\programs\\python\\python310\\lib\\site-packages (from spacy<3.5.0,>=3.4.0->en-core-web-md==3.4.0) (1.23.4)\n",
      "Requirement already satisfied: preshed<3.1.0,>=3.0.2 in c:\\users\\kajan\\appdata\\local\\programs\\python\\python310\\lib\\site-packages (from spacy<3.5.0,>=3.4.0->en-core-web-md==3.4.0) (3.0.8)\n",
      "Requirement already satisfied: cymem<2.1.0,>=2.0.2 in c:\\users\\kajan\\appdata\\local\\programs\\python\\python310\\lib\\site-packages (from spacy<3.5.0,>=3.4.0->en-core-web-md==3.4.0) (2.0.7)\n",
      "Requirement already satisfied: requests<3.0.0,>=2.13.0 in c:\\users\\kajan\\appdata\\local\\programs\\python\\python310\\lib\\site-packages (from spacy<3.5.0,>=3.4.0->en-core-web-md==3.4.0) (2.28.1)\n",
      "Requirement already satisfied: srsly<3.0.0,>=2.4.3 in c:\\users\\kajan\\appdata\\local\\programs\\python\\python310\\lib\\site-packages (from spacy<3.5.0,>=3.4.0->en-core-web-md==3.4.0) (2.4.5)\n",
      "Requirement already satisfied: pyparsing!=3.0.5,>=2.0.2 in c:\\users\\kajan\\appdata\\local\\programs\\python\\python310\\lib\\site-packages (from packaging>=20.0->spacy<3.5.0,>=3.4.0->en-core-web-md==3.4.0) (3.0.9)\n",
      "Requirement already satisfied: smart-open<6.0.0,>=5.2.1 in c:\\users\\kajan\\appdata\\local\\programs\\python\\python310\\lib\\site-packages (from pathy>=0.3.5->spacy<3.5.0,>=3.4.0->en-core-web-md==3.4.0) (5.2.1)\n",
      "Requirement already satisfied: typing-extensions>=3.7.4.3 in c:\\users\\kajan\\appdata\\local\\programs\\python\\python310\\lib\\site-packages (from pydantic!=1.8,!=1.8.1,<1.10.0,>=1.7.4->spacy<3.5.0,>=3.4.0->en-core-web-md==3.4.0) (4.4.0)\n",
      "Requirement already satisfied: urllib3<1.27,>=1.21.1 in c:\\users\\kajan\\appdata\\local\\programs\\python\\python310\\lib\\site-packages (from requests<3.0.0,>=2.13.0->spacy<3.5.0,>=3.4.0->en-core-web-md==3.4.0) (1.26.12)\n",
      "Requirement already satisfied: idna<4,>=2.5 in c:\\users\\kajan\\appdata\\local\\programs\\python\\python310\\lib\\site-packages (from requests<3.0.0,>=2.13.0->spacy<3.5.0,>=3.4.0->en-core-web-md==3.4.0) (3.4)\n",
      "Requirement already satisfied: charset-normalizer<3,>=2 in c:\\users\\kajan\\appdata\\local\\programs\\python\\python310\\lib\\site-packages (from requests<3.0.0,>=2.13.0->spacy<3.5.0,>=3.4.0->en-core-web-md==3.4.0) (2.1.1)\n",
      "Requirement already satisfied: certifi>=2017.4.17 in c:\\users\\kajan\\appdata\\local\\programs\\python\\python310\\lib\\site-packages (from requests<3.0.0,>=2.13.0->spacy<3.5.0,>=3.4.0->en-core-web-md==3.4.0) (2022.9.24)\n",
      "Requirement already satisfied: blis<0.8.0,>=0.7.8 in c:\\users\\kajan\\appdata\\local\\programs\\python\\python310\\lib\\site-packages (from thinc<8.2.0,>=8.1.0->spacy<3.5.0,>=3.4.0->en-core-web-md==3.4.0) (0.7.9)\n",
      "Requirement already satisfied: confection<1.0.0,>=0.0.1 in c:\\users\\kajan\\appdata\\local\\programs\\python\\python310\\lib\\site-packages (from thinc<8.2.0,>=8.1.0->spacy<3.5.0,>=3.4.0->en-core-web-md==3.4.0) (0.0.3)\n",
      "Requirement already satisfied: colorama in c:\\users\\kajan\\appdata\\local\\programs\\python\\python310\\lib\\site-packages (from tqdm<5.0.0,>=4.38.0->spacy<3.5.0,>=3.4.0->en-core-web-md==3.4.0) (0.4.5)\n",
      "Requirement already satisfied: click<9.0.0,>=7.1.1 in c:\\users\\kajan\\appdata\\local\\programs\\python\\python310\\lib\\site-packages (from typer<0.5.0,>=0.3.0->spacy<3.5.0,>=3.4.0->en-core-web-md==3.4.0) (8.1.3)\n",
      "Requirement already satisfied: MarkupSafe>=2.0 in c:\\users\\kajan\\appdata\\local\\programs\\python\\python310\\lib\\site-packages (from jinja2->spacy<3.5.0,>=3.4.0->en-core-web-md==3.4.0) (2.1.1)\n",
      "[+] Download and installation successful\n",
      "You can now load the package via spacy.load('en_core_web_md')\n"
     ]
    }
   ],
   "source": [
    "import spacy\n",
    "#!python -m spacy download en_core_web_md"
   ]
  },
  {
   "cell_type": "code",
   "execution_count": 125,
   "id": "ada36864",
   "metadata": {},
   "outputs": [],
   "source": [
    "#en_core_web_sm (35 MB) uses 96 dimensional vectors\n",
    "#en_core_web_md (116 MB) and en_core_web_lg (812 MB) use 300 dimensional vectors\n",
    "#The biggest spaCy model \"en_vectors_web_lg\" (612 MB) has 1.1 million unique 300 dimensional vectors\n",
    "nlp = spacy.load('en_core_web_md')"
   ]
  },
  {
   "cell_type": "code",
   "execution_count": 87,
   "id": "d67397c7",
   "metadata": {
    "scrolled": true
   },
   "outputs": [
    {
     "data": {
      "text/plain": [
       "array([ 3.2863e-02,  1.8007e+00, -1.3854e+00, -3.5269e+00, -2.4236e-01,\n",
       "        4.1086e-01,  2.6883e-01,  2.6619e-01,  2.2089e+00,  5.5610e-01,\n",
       "        1.8365e+00,  1.8640e+00,  5.6364e-01,  2.8410e+00,  9.6371e-01,\n",
       "       -4.9025e-01,  1.7455e+00, -9.0955e-01,  1.0285e+00, -9.1369e-01,\n",
       "       -3.8807e+00,  4.3646e+00,  7.3652e-01, -1.9855e+00,  6.8695e-01,\n",
       "       -1.1168e+00, -1.3848e+00, -4.3275e+00,  2.0860e+00, -1.2352e+00,\n",
       "       -2.6987e+00, -3.1923e+00, -4.5478e-01, -3.2505e-01,  2.9277e+00,\n",
       "       -2.8127e+00,  5.6524e-01,  2.5116e+00, -4.0011e-03, -2.2538e+00,\n",
       "        9.6753e-01,  1.7537e+00,  1.9626e+00,  2.4178e+00,  9.5231e-01,\n",
       "        7.9069e-01,  1.0563e+00, -2.3808e+00,  1.1095e+00,  2.5975e-01,\n",
       "        1.8122e+00,  3.9573e+00,  2.6941e+00, -8.8950e-01, -2.1411e+00,\n",
       "       -6.7690e-01,  1.4524e+00, -2.6874e+00,  1.0701e+00, -3.1616e+00,\n",
       "       -7.6816e-01, -2.2863e+00,  9.8872e-02,  2.4057e+00, -1.9252e+00,\n",
       "       -3.0326e+00, -2.1072e+00,  1.0391e+00,  1.4350e+00, -8.8489e-01,\n",
       "        2.7393e+00,  6.6096e-01,  2.2575e+00,  5.1214e-01, -6.8276e-01,\n",
       "       -3.1178e+00, -1.4062e+00, -5.3916e-01,  1.3061e+00, -6.6542e-01,\n",
       "        4.8551e-01, -7.9367e-01, -2.2562e+00,  1.3289e+00,  2.7638e+00,\n",
       "       -3.1425e+00,  4.1136e+00,  1.7899e-01, -5.0687e+00,  2.2145e-01,\n",
       "        5.5075e-02, -3.7058e+00,  2.5449e+00, -2.7860e+00,  1.7028e+00,\n",
       "       -7.6030e-01, -1.9974e+00, -2.1537e+00,  3.4419e+00, -1.8682e+00,\n",
       "        1.1138e+00,  1.5893e+00,  3.6079e+00, -1.3021e+00, -3.3268e+00,\n",
       "       -2.6244e-01, -1.8124e-01,  2.0697e+00,  3.0779e-01,  2.0234e-01,\n",
       "       -1.9268e+00,  4.0943e+00,  5.7549e-01, -8.7896e-01,  1.8096e+00,\n",
       "       -6.9747e-01,  1.6599e+00,  6.7386e-01,  3.0197e+00,  1.8628e+00,\n",
       "        1.2141e+00,  1.8963e+00, -5.1159e+00, -1.0928e+00, -3.4398e+00,\n",
       "       -1.6004e+00,  3.2684e+00,  1.1688e+00,  1.9703e+00,  1.9121e+00,\n",
       "        1.8583e-01, -1.1423e-01,  1.6074e-01,  3.0606e-01,  1.0695e+00,\n",
       "        2.4778e+00, -2.6794e+00,  7.0397e-02, -3.4089e+00, -3.0540e+00,\n",
       "       -1.5846e+00, -1.8806e+00,  4.1537e-01, -1.4787e+00, -1.3645e+00,\n",
       "        1.7621e+00,  5.1001e-01,  4.5979e+00,  1.5513e+00, -2.1874e+00,\n",
       "        2.9211e+00,  2.4963e+00,  1.9917e-01, -3.4283e+00,  3.1681e+00,\n",
       "       -1.5562e+00,  3.2173e+00, -7.8336e-01,  9.4303e-01,  2.6259e+00,\n",
       "        1.9175e+00, -1.5161e+00, -1.4285e-01,  1.1058e+00, -2.9558e+00,\n",
       "       -4.3414e+00, -1.3435e+00,  2.5337e+00,  4.9969e-02,  2.2778e+00,\n",
       "        1.8574e+00,  8.3536e-02,  1.1684e-01,  1.9443e+00, -1.1376e+00,\n",
       "       -6.8235e-01,  3.5993e+00, -5.6595e-03, -1.9401e+00,  1.2280e+00,\n",
       "       -1.0015e+00, -2.5366e+00,  3.9290e-01,  2.2441e+00, -2.0605e-04,\n",
       "       -2.4299e+00,  3.3624e+00, -1.2885e+00,  8.0133e-01, -4.9043e+00,\n",
       "        3.8151e+00,  1.2785e+00,  9.1325e-02,  6.8201e-02, -8.6927e-01,\n",
       "        2.6820e+00, -1.3148e+00,  5.3668e+00, -2.0239e+00,  1.7111e+00,\n",
       "        1.4604e+00,  2.4493e+00, -1.1081e+00,  2.8723e+00, -4.5771e-01,\n",
       "       -1.5556e+00, -1.3615e+00, -4.6629e-01, -2.3375e+00,  9.4334e-02,\n",
       "        3.4476e+00,  2.1586e+00, -2.0181e+00, -1.7466e+00, -1.9571e+00,\n",
       "       -8.0159e-02,  2.0817e+00,  2.4076e+00, -8.4101e-01, -3.8430e+00,\n",
       "        5.3169e-01, -2.3027e+00,  7.3437e-01,  1.5309e+00, -4.5205e+00,\n",
       "        6.0364e-01,  1.4670e+00, -3.2357e-01,  1.3448e+00,  1.5995e+00,\n",
       "        4.2387e-01, -3.5356e+00,  1.3038e+00,  3.4894e+00, -2.6225e+00,\n",
       "       -2.1043e+00, -2.0730e+00, -6.4654e-01, -1.8689e+00,  2.0493e+00,\n",
       "       -8.6869e-01, -9.0148e-01, -7.1416e-01,  6.0592e-01, -1.4256e+00,\n",
       "        5.3951e-01,  2.5101e+00,  5.7551e-01,  7.6776e-01,  1.1551e+00,\n",
       "       -1.5380e+00, -1.2268e-01, -2.0097e+00, -1.1301e+00, -5.1670e-01,\n",
       "        1.6921e-01, -6.4033e-01,  7.7623e+00, -2.4001e-01, -1.0622e+00,\n",
       "        8.3189e-01, -2.5628e+00,  8.3791e-02,  1.8748e+00, -7.7494e-01,\n",
       "       -7.4682e-01, -5.9952e+00, -1.3138e+00, -1.8500e+00,  1.3090e+00,\n",
       "        3.1452e+00,  1.2176e+00, -1.5038e+00,  2.1367e+00,  1.3403e+00,\n",
       "       -3.6224e+00,  5.3139e-01, -1.3746e+00, -2.9007e+00,  3.0105e+00,\n",
       "       -3.3096e+00, -1.4907e+00,  1.8880e+00, -1.6789e+00,  1.3698e+00,\n",
       "        1.5491e+00, -2.0675e+00, -9.1857e-01, -7.4807e-01,  1.6061e+00,\n",
       "        1.2729e+00,  1.1751e-01,  5.6087e+00,  3.5144e-01, -1.4537e+00,\n",
       "        1.3346e+00, -1.0403e+00,  8.4087e-01, -7.4699e+00, -3.7174e-01],\n",
       "      dtype=float32)"
      ]
     },
     "execution_count": 87,
     "metadata": {},
     "output_type": "execute_result"
    }
   ],
   "source": [
    "nlp('tiger').vector"
   ]
  },
  {
   "cell_type": "code",
   "execution_count": 88,
   "id": "38c4b73d",
   "metadata": {},
   "outputs": [
    {
     "data": {
      "text/plain": [
       "0.7329664910082535"
      ]
     },
     "execution_count": 88,
     "metadata": {},
     "output_type": "execute_result"
    }
   ],
   "source": [
    "#Also has a cosine similarity function\n",
    "nlp('cat').similarity(nlp('pet'))"
   ]
  },
  {
   "cell_type": "code",
   "execution_count": 90,
   "id": "15d8fcd6",
   "metadata": {},
   "outputs": [
    {
     "data": {
      "text/plain": [
       "300"
      ]
     },
     "execution_count": 90,
     "metadata": {},
     "output_type": "execute_result"
    }
   ],
   "source": [
    "#Can also get vectors of entire sentences / documents (takes the average of the vectors of all tokens)\n",
    "sen_vec = nlp('the quick brown fox').vector\n",
    "len(sen_vec)"
   ]
  },
  {
   "cell_type": "code",
   "execution_count": 126,
   "id": "f5859b53",
   "metadata": {
    "scrolled": true
   },
   "outputs": [
    {
     "data": {
      "text/plain": [
       "0.6178015"
      ]
     },
     "execution_count": 126,
     "metadata": {},
     "output_type": "execute_result"
    }
   ],
   "source": [
    "#Analogies with vector arithmetic\n",
    "#spaCy doesn't have n-most similar words function - would have to implement ourselves\n",
    "new_vec = nlp('king').vector - nlp('man').vector + nlp('woman').vector\n",
    "cosine_similarity(new_vec, nlp('queen').vector)"
   ]
  },
  {
   "cell_type": "markdown",
   "id": "dc7de5ad",
   "metadata": {},
   "source": [
    "Quick implementation of 'n most similar' for spaCy adapted from [this site](https://ashutoshtripathi.com/2020/09/04/word2vec-and-semantic-similarity-using-spacy-nlp-spacy-series-part-7/)"
   ]
  },
  {
   "cell_type": "code",
   "execution_count": 120,
   "id": "5c1c7211",
   "metadata": {},
   "outputs": [],
   "source": [
    "def spacy_similar(vec, n=10, as_lexeme=False):\n",
    "    similarities = []\n",
    "    for word in nlp.vocab:\n",
    "        if word.has_vector and word.is_lower and word.is_alpha:\n",
    "            similarities.append((word,cosine_similarity(vec,word.vector)))\n",
    "    ret = sorted(similarities, key=lambda pair: pair[1], reverse=True)[:n]\n",
    "    if not as_lexeme:\n",
    "        return [w[0].text for w in ret]\n",
    "    else:\n",
    "        return ret"
   ]
  },
  {
   "cell_type": "code",
   "execution_count": 127,
   "id": "ae0d7e6c",
   "metadata": {},
   "outputs": [
    {
     "data": {
      "text/plain": [
       "['king',\n",
       " 'queen',\n",
       " 'and',\n",
       " 'that',\n",
       " 'havin',\n",
       " 'where',\n",
       " 'she',\n",
       " 'they',\n",
       " 'woman',\n",
       " 'somethin']"
      ]
     },
     "execution_count": 127,
     "metadata": {},
     "output_type": "execute_result"
    }
   ],
   "source": [
    "#Queen shows up high on the list here, which is good\n",
    "#It seems every model so far still includes the original word as the closest when doing analogies\n",
    "spacy_similar(new_vec)"
   ]
  },
  {
   "cell_type": "markdown",
   "id": "e0bcc6af",
   "metadata": {},
   "source": [
    "### Visualizations"
   ]
  },
  {
   "cell_type": "code",
   "execution_count": 97,
   "id": "601a3931",
   "metadata": {},
   "outputs": [
    {
     "data": {
      "image/png": "[encoded data removed]",
      "text/plain": [
       "<Figure size 640x480 with 1 Axes>"
      ]
     },
     "metadata": {},
     "output_type": "display_data"
    }
   ],
   "source": [
    "words = ['king','queen','man','woman','president','kingdom','apple','orange','banana','amazon']\n",
    "X = [nlp(w).vector for w in words]\n",
    "pca = PCA(n_components=2)\n",
    "res = pca.fit_transform(X)\n",
    "\n",
    "plt.scatter(res[:,0],res[:,1])\n",
    "for i, word in enumerate(words):\n",
    "    plt.annotate(word, xy=(res[i, 0], res[i, 1]))\n",
    "plt.show()"
   ]
  },
  {
   "cell_type": "markdown",
   "id": "cf334de5",
   "metadata": {},
   "source": [
    "## Option 4 - Generate Embeddings with Gensim\n",
    "It is said that generating your own word embeddings can sometimes yield better results since it better captures the domain.  \n",
    "\n",
    "If we want to go this route, might as well use MOOC dataset instead since coursera lectures should be similar enough.     \n",
    "\n",
    "Since we don't a have a giant dataset of 12,000 transcripts like the MOOC set did, this section will just use the TED talks transcripts as a proof of concept."
   ]
  },
  {
   "cell_type": "code",
   "execution_count": 1,
   "id": "ee8f6fd9",
   "metadata": {},
   "outputs": [],
   "source": [
    "from gensim.parsing.preprocessing import preprocess_documents"
   ]
  },
  {
   "cell_type": "code",
   "execution_count": 5,
   "id": "4bfee635",
   "metadata": {},
   "outputs": [],
   "source": [
    "#TODO ?"
   ]
  },
  {
   "cell_type": "markdown",
   "id": "a3261a23",
   "metadata": {},
   "source": [
    "## Option 4.1 - Doc2Vec with Gensim\n",
    "Generating vectors for entire documents"
   ]
  },
  {
   "cell_type": "code",
   "execution_count": null,
   "id": "5a22e1e4",
   "metadata": {},
   "outputs": [],
   "source": []
  },
  {
   "cell_type": "markdown",
   "id": "b1902146",
   "metadata": {},
   "source": [
    "## Option 5 - Glove Embeddings\n",
    "(Maybe separate notebook?)"
   ]
  },
  {
   "cell_type": "code",
   "execution_count": null,
   "id": "bdfdd3b9",
   "metadata": {},
   "outputs": [],
   "source": []
  }
 ],
 "metadata": {
  "kernelspec": {
   "display_name": "Python 3 (ipykernel)",
   "language": "python",
   "name": "python3"
  },
  "language_info": {
   "codemirror_mode": {
    "name": "ipython",
    "version": 3
   },
   "file_extension": ".py",
   "mimetype": "text/x-python",
   "name": "python",
   "nbconvert_exporter": "python",
   "pygments_lexer": "ipython3",
   "version": "3.10.7"
  }
 },
 "nbformat": 4,
 "nbformat_minor": 5
}
